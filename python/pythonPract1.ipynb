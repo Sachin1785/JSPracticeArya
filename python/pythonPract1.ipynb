{
 "cells": [
  {
   "cell_type": "code",
   "execution_count": 21,
   "metadata": {},
   "outputs": [
    {
     "name": "stdout",
     "output_type": "stream",
     "text": [
      "12 13 15\n"
     ]
    }
   ],
   "source": [
    "x, y, z = map(int, input().split())\n",
    "print ( x, y, z)"
   ]
  },
  {
   "cell_type": "code",
   "execution_count": 22,
   "metadata": {},
   "outputs": [
    {
     "name": "stdout",
     "output_type": "stream",
     "text": [
      "bruh 12 13 15 hello\n"
     ]
    }
   ],
   "source": [
    "str = f'bruh {x} {y} {z} hello'\n",
    "print(str)"
   ]
  },
  {
   "cell_type": "code",
   "execution_count": 23,
   "metadata": {},
   "outputs": [
    {
     "name": "stdout",
     "output_type": "stream",
     "text": [
      "['bruh', '12', '13', '15', 'hello']\n",
      "Bruh 12 13 15 hello\n",
      "BRUH 12 13 15 HELLO\n",
      "bruh 12 13 15 hello\n",
      "Bruh 12 13 15 Hello\n",
      "BRUH 12 13 15 HELLO\n",
      "hello 12 13 15 hello\n",
      "0\n"
     ]
    }
   ],
   "source": [
    "print ( str.split() )\n",
    "print  (str.capitalize() )\n",
    "print (str.upper() )\n",
    "print (str.lower() )\n",
    "print (str.title() )\n",
    "print (str.swapcase() )\n",
    "print (str.replace('bruh', 'hello') )\n",
    "print (str.find('bruh') )"
   ]
  },
  {
   "cell_type": "code",
   "execution_count": 24,
   "metadata": {},
   "outputs": [
    {
     "name": "stdout",
     "output_type": "stream",
     "text": [
      "['apple', 'banana', 'cherry']\n",
      "['apple', 'banana', 'cherry', 'orange']\n",
      "['apple', 'lemon', 'banana', 'cherry', 'orange']\n",
      "['apple', 'lemon', 'cherry', 'orange']\n",
      "['apple', 'cherry', 'orange']\n",
      "['cherry', 'orange']\n",
      "[]\n"
     ]
    }
   ],
   "source": [
    "fuitr = ['apple', 'banana', 'cherry']\n",
    "print (fuitr)\n",
    "fuitr.append('orange')\n",
    "print (fuitr)\n",
    "fuitr.insert(1, 'lemon')\n",
    "print (fuitr)\n",
    "fuitr.remove('banana')\n",
    "print (fuitr)\n",
    "fuitr.pop(1)\n",
    "print (fuitr)\n",
    "del fuitr[0]\n",
    "print (fuitr)\n",
    "fuitr.clear()\n",
    "print (fuitr)\n"
   ]
  },
  {
   "cell_type": "code",
   "execution_count": 25,
   "metadata": {},
   "outputs": [
    {
     "name": "stdout",
     "output_type": "stream",
     "text": [
      "('apple', 'banana', 'cherry', 'apple', 'cherry', 'cherry')\n",
      "banana\n",
      "cherry\n",
      "('banana', 'cherry')\n",
      "('apple', 'cherry')\n",
      "2\n",
      "3\n"
     ]
    }
   ],
   "source": [
    "#tuple\n",
    "thistuple = (\"apple\", \"banana\", \"cherry\", \"apple\", \"cherry\",\"cherry\")\n",
    "print (thistuple)\n",
    "print (thistuple[1])\n",
    "print (thistuple[-1])\n",
    "print (thistuple[1:3])\n",
    "print (thistuple[-3:-1])\n",
    "print (thistuple.index('cherry'))\n",
    "print (thistuple.count('cherry'))\n"
   ]
  },
  {
   "cell_type": "code",
   "execution_count": 26,
   "metadata": {},
   "outputs": [
    {
     "name": "stdout",
     "output_type": "stream",
     "text": [
      "{'1st': 90, '2nd': 80, '3rd': 70}\n",
      "80\n"
     ]
    }
   ],
   "source": [
    "marks = {'1st': 90, '2nd': 80, '3rd': 70}\n",
    "\n",
    "print (marks)\n",
    "print (marks['2nd'])"
   ]
  },
  {
   "cell_type": "code",
   "execution_count": 27,
   "metadata": {},
   "outputs": [
    {
     "name": "stdout",
     "output_type": "stream",
     "text": [
      "Hello from a function\n"
     ]
    }
   ],
   "source": [
    "def my_function():\n",
    "    print('Hello from a function')\n",
    "\n",
    "my_function()"
   ]
  },
  {
   "cell_type": "code",
   "execution_count": 28,
   "metadata": {},
   "outputs": [
    {
     "name": "stdout",
     "output_type": "stream",
     "text": [
      "2024-07-31 16:44:26.722728\n"
     ]
    }
   ],
   "source": [
    "import datetime\n",
    "time = datetime.datetime.now()\n",
    "print(time)\n"
   ]
  },
  {
   "cell_type": "code",
   "execution_count": 33,
   "metadata": {},
   "outputs": [
    {
     "name": "stdout",
     "output_type": "stream",
     "text": [
      "Hello my name is John 36\n"
     ]
    }
   ],
   "source": [
    "class test:\n",
    "    def __init__(self, name, age):\n",
    "        self.name = name\n",
    "        self.age = age\n",
    "\n",
    "    def myfunc(self):\n",
    "        print(f'Hello my name is ' + self.name + f' {self.age}')\n",
    "\n",
    "p1 = test('John', 36)\n",
    "p1.myfunc()\n"
   ]
  },
  {
   "cell_type": "code",
   "execution_count": null,
   "metadata": {},
   "outputs": [],
   "source": []
  }
 ],
 "metadata": {
  "kernelspec": {
   "display_name": "Python 3",
   "language": "python",
   "name": "python3"
  },
  "language_info": {
   "codemirror_mode": {
    "name": "ipython",
    "version": 3
   },
   "file_extension": ".py",
   "mimetype": "text/x-python",
   "name": "python",
   "nbconvert_exporter": "python",
   "pygments_lexer": "ipython3",
   "version": "3.12.4"
  }
 },
 "nbformat": 4,
 "nbformat_minor": 2
}
